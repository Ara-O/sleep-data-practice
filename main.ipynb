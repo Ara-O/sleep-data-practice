{
 "cells": [
  {
   "cell_type": "markdown",
   "metadata": {},
   "source": [
    "Trying first solo ml project with sleep data"
   ]
  },
  {
   "cell_type": "code",
   "execution_count": 63,
   "metadata": {},
   "outputs": [
    {
     "name": "stdout",
     "output_type": "stream",
     "text": [
      "  Sleep quality Time in bed Wake up             Sleep Notes  Heart rate  \\\n",
      "0          100%        8:32      :)                     NaN        59.0   \n",
      "1            3%        0:16      :|           Stressful day        72.0   \n",
      "2           98%        8:30      :|                     NaN        57.0   \n",
      "3           65%        7:32     NaN                     NaN         NaN   \n",
      "4           72%        6:44      :)  Drank coffee:Drank tea        68.0   \n",
      "\n",
      "   Activity (steps)  \n",
      "0                 0  \n",
      "1                 0  \n",
      "2                 0  \n",
      "3                 0  \n",
      "4                 0  \n"
     ]
    }
   ],
   "source": [
    "import pandas as pd\n",
    "pd.options.mode.chained_assignment = None\n",
    "\n",
    "data_original = pd.read_csv(\"data/sleepdata.csv\",header=\"infer\",sep=\";\")\n",
    "data_original = data_original.drop([\"Start\", \"End\"], axis=1)\n",
    "\n",
    "print(data_original.head())"
   ]
  },
  {
   "cell_type": "markdown",
   "metadata": {},
   "source": [
    "Getting a sample data to work on before working on the main data"
   ]
  },
  {
   "cell_type": "code",
   "execution_count": 67,
   "metadata": {},
   "outputs": [],
   "source": [
    "data = data_original.sample(frac=0.2, replace=False)\n",
    "data = data.reset_index()"
   ]
  },
  {
   "cell_type": "markdown",
   "metadata": {},
   "source": [
    "Changing the time in bed attribute to be more meaningful"
   ]
  },
  {
   "cell_type": "code",
   "execution_count": 66,
   "metadata": {},
   "outputs": [],
   "source": [
    "for index, value in data[\"Time in bed\"].items():\n",
    "    splitString = value.split(\":\")\n",
    "    hours, minutes = splitString[0], splitString[1]\n",
    "    totalTime = (int(hours) * 60) + int(minutes)\n",
    "    data[\"Time in bed\"][index] = str(totalTime)"
   ]
  },
  {
   "cell_type": "code",
   "execution_count": 62,
   "metadata": {},
   "outputs": [
    {
     "name": "stdout",
     "output_type": "stream",
     "text": [
      "     index Sleep quality Time in bed Wake up  \\\n",
      "0      463           63%         454     NaN   \n",
      "1      406           86%         487     NaN   \n",
      "2      659           73%         472     NaN   \n",
      "3       89           65%         466      :)   \n",
      "4      745           81%         441     NaN   \n",
      "..     ...           ...         ...     ...   \n",
      "172      8           69%         447      :)   \n",
      "173    763           73%         481     NaN   \n",
      "174    358           72%         416     NaN   \n",
      "175    492           68%         421     NaN   \n",
      "176    765           83%         482     NaN   \n",
      "\n",
      "                           Sleep Notes  Heart rate  Activity (steps)  \n",
      "0    Drank coffee:Drank tea:Worked out         NaN             10266  \n",
      "1              Drank coffee:Worked out         NaN                 0  \n",
      "2    Drank coffee:Drank tea:Worked out         NaN              5606  \n",
      "3              Drank coffee:Worked out        91.0                 0  \n",
      "4                                  NaN         NaN              4835  \n",
      "..                                 ...         ...               ...  \n",
      "172  Drank coffee:Drank tea:Worked out        56.0                 0  \n",
      "173                                NaN         NaN              5050  \n",
      "174            Drank coffee:Worked out         NaN                 0  \n",
      "175             Drank coffee:Drank tea         NaN              6149  \n",
      "176                                NaN         NaN             10076  \n",
      "\n",
      "[177 rows x 7 columns]\n"
     ]
    }
   ],
   "source": [
    "print(data)"
   ]
  },
  {
   "cell_type": "markdown",
   "metadata": {},
   "source": []
  }
 ],
 "metadata": {
  "kernelspec": {
   "display_name": "Python 3",
   "language": "python",
   "name": "python3"
  },
  "language_info": {
   "codemirror_mode": {
    "name": "ipython",
    "version": 3
   },
   "file_extension": ".py",
   "mimetype": "text/x-python",
   "name": "python",
   "nbconvert_exporter": "python",
   "pygments_lexer": "ipython3",
   "version": "3.10.12"
  }
 },
 "nbformat": 4,
 "nbformat_minor": 2
}
